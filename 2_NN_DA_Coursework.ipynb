{
  "nbformat": 4,
  "nbformat_minor": 0,
  "metadata": {
    "colab": {
      "name": "V2 NN_DA_Coursework.ipynb",
      "version": "0.3.2",
      "provenance": [],
      "collapsed_sections": [],
      "include_colab_link": true
    },
    "kernelspec": {
      "name": "python3",
      "display_name": "Python 3"
    },
    "accelerator": "GPU"
  },
  "cells": [
    {
      "cell_type": "markdown",
      "metadata": {
        "id": "view-in-github",
        "colab_type": "text"
      },
      "source": [
        "<a href=\"https://colab.research.google.com/github/albertorm/Data_Analytics_Coursework/blob/master/2_NN_DA_Coursework.ipynb\" target=\"_parent\"><img src=\"https://colab.research.google.com/assets/colab-badge.svg\" alt=\"Open In Colab\"/></a>"
      ]
    },
    {
      "metadata": {
        "id": "xLeEGS_EAz2M",
        "colab_type": "text"
      },
      "cell_type": "markdown",
      "source": [
        "#NN regression for House price prediction"
      ]
    },
    {
      "metadata": {
        "id": "K74rp4OnApwD",
        "colab_type": "code",
        "colab": {}
      },
      "cell_type": "code",
      "source": [
        "import numpy as np\n",
        "import pandas as pd\n",
        "import matplotlib.pyplot as plt\n",
        "import datetime as dt\n",
        "import argparse\n",
        "import locale\n",
        "import os\n",
        "#SKLEARN AND GOOGLE\n",
        "from google.colab import auth\n",
        "from google.colab import drive\n",
        "from sklearn.metrics import mean_squared_error\n",
        "from sklearn.model_selection import train_test_split\n",
        "from sklearn.linear_model import LinearRegression\n",
        "from sklearn.preprocessing import LabelBinarizer\n",
        "from sklearn.preprocessing import MinMaxScaler\n",
        "from sklearn.model_selection import train_test_split\n",
        "#TENSORFLOW AND KERAS\n",
        "import tensorflow as tf\n",
        "from keras.models import Sequential\n",
        "from keras.layers.core import Activation\n",
        "from keras.layers.core import Dense\n",
        "from keras.layers import Flatten\n",
        "from keras.layers import Input\n",
        "from keras.models import Model\n",
        "from keras.optimizers import Adam"
      ],
      "execution_count": 0,
      "outputs": []
    },
    {
      "metadata": {
        "id": "B6yh4iv9AxVy",
        "colab_type": "code",
        "outputId": "dd984c4f-d541-479e-b020-f4ef394b9620",
        "colab": {
          "base_uri": "https://localhost:8080/",
          "height": 34
        }
      },
      "cell_type": "code",
      "source": [
        "drive.mount('/content/gdrive') #mount the googledrive\n",
        "#!ls \"/content/gdrive/My Drive/DA_Coursework/3. Data\" #list the content"
      ],
      "execution_count": 0,
      "outputs": [
        {
          "output_type": "stream",
          "text": [
            "Drive already mounted at /content/gdrive; to attempt to forcibly remount, call drive.mount(\"/content/gdrive\", force_remount=True).\n"
          ],
          "name": "stdout"
        }
      ]
    },
    {
      "metadata": {
        "id": "J4tPC_4mz-nW",
        "colab_type": "text"
      },
      "cell_type": "markdown",
      "source": [
        "##1 Read dataset from CSV file and apply the transformations"
      ]
    },
    {
      "metadata": {
        "id": "z4_g87pwleJI",
        "colab_type": "code",
        "colab": {}
      },
      "cell_type": "code",
      "source": [
        "#READ DATASET FROM FILE\n",
        "s_boroughs = pd.read_csv(\"/content/gdrive/My Drive/DA_Coursework/3. Data/londonBoroughs_realprice.csv\")"
      ],
      "execution_count": 0,
      "outputs": []
    },
    {
      "metadata": {
        "id": "-43_tP6ble00",
        "colab_type": "code",
        "colab": {}
      },
      "cell_type": "code",
      "source": [
        "#Convert Date to numerical value for the three datasets:\n",
        "s_boroughs['dateOfTransfer'] = pd.to_datetime(s_boroughs['dateOfTransfer'])\n",
        "s_boroughs['dateOfTransfer'] = s_boroughs['dateOfTransfer'].map(dt.datetime.toordinal)"
      ],
      "execution_count": 0,
      "outputs": []
    },
    {
      "metadata": {
        "id": "QivmxhbUz5g9",
        "colab_type": "code",
        "colab": {}
      },
      "cell_type": "code",
      "source": [
        "# SETTING PROPERTY TYPE TO \"OTHERS\"\n",
        "property_type = 'O'\n",
        "\n",
        "# SETTING LOWER ADN UPPER PRICE BOUNDS FOR OUTLIERS\n",
        "lower_price = 20000\n",
        "upper_price = 30000000\n",
        "\n",
        "\n",
        "#s_boroughs = s_boroughs[s_boroughs['propertyType']!=property_type]\n",
        "#s_boroughs = s_boroughs[(s_boroughs['dateOfTransfer']>=lower_price) & (s_boroughs['price']<=upper_price)]"
      ],
      "execution_count": 0,
      "outputs": []
    },
    {
      "metadata": {
        "id": "sdImdGQblhT9",
        "colab_type": "code",
        "colab": {}
      },
      "cell_type": "code",
      "source": [
        "#Create the dummy values for categorical values (Property Type, Old/New, Duration, PPD)\n",
        "s_boroughs = pd.concat([s_boroughs,pd.get_dummies(s_boroughs['propertyType'], prefix='prop_type')],axis=1)\n",
        "s_boroughs = pd.concat([s_boroughs,pd.get_dummies(s_boroughs['oldNew'], prefix='oldNew')],axis=1)\n",
        "s_boroughs = pd.concat([s_boroughs,pd.get_dummies(s_boroughs['duration'], prefix='duration')],axis=1)\n",
        "\n",
        "s_boroughs.drop(columns=['Unnamed: 0','uniqueId','postCode','propertyType','PAON','SAON','street','locality','townCity','county','oldNew','duration','ppdCategoryType','recordStatus'],inplace=True)"
      ],
      "execution_count": 0,
      "outputs": []
    },
    {
      "metadata": {
        "id": "KTTIPUBtlmIC",
        "colab_type": "code",
        "colab": {}
      },
      "cell_type": "code",
      "source": [
        "#Divide the dataset in three boroughs:\n",
        "df_lambeth = s_boroughs.loc[s_boroughs['district']=='LAMBETH'] \n",
        "df_croydon = s_boroughs.loc[s_boroughs['district']=='CROYDON']\n",
        "df_westminster = s_boroughs.loc[s_boroughs['district']=='CITY OF WESTMINSTER']"
      ],
      "execution_count": 0,
      "outputs": []
    },
    {
      "metadata": {
        "id": "Yf4nZiYqA1iL",
        "colab_type": "code",
        "colab": {}
      },
      "cell_type": "code",
      "source": [
        "#CALCULATE THE MEAN PER DAY\n",
        "df_lambeth = df_lambeth.groupby('dateOfTransfer').mean().reset_index()\n",
        "df_croydon = df_croydon.groupby('dateOfTransfer').mean()\n",
        "df_westminster = df_westminster.groupby('dateOfTransfer').mean()"
      ],
      "execution_count": 0,
      "outputs": []
    },
    {
      "metadata": {
        "id": "-EUT5IbVAigT",
        "colab_type": "text"
      },
      "cell_type": "markdown",
      "source": [
        "##2 Split by train and test"
      ]
    },
    {
      "metadata": {
        "id": "xdi71W49IHtO",
        "colab_type": "code",
        "colab": {}
      },
      "cell_type": "code",
      "source": [
        "#TRAIN AND TEST SPLIT\n",
        "(train, test) = train_test_split(df_lambeth, test_size=0.2, random_state=42)"
      ],
      "execution_count": 0,
      "outputs": []
    },
    {
      "metadata": {
        "id": "42_fQ9KcAbOz",
        "colab_type": "text"
      },
      "cell_type": "markdown",
      "source": [
        "##4 Normalization"
      ]
    },
    {
      "metadata": {
        "id": "IIoyuz0hIfuA",
        "colab_type": "code",
        "outputId": "3390ee1b-407d-4e8e-ceac-72575520e34e",
        "colab": {
          "base_uri": "https://localhost:8080/",
          "height": 86
        }
      },
      "cell_type": "code",
      "source": [
        "#NORMALIZING THE OTHER COLUMNS\n",
        "#initialize the column names of the continuous data\n",
        "continuous = ['dateOfTransfer','prop_type_D', 'prop_type_F', 'prop_type_S','prop_type_T'\n",
        "              #,'prop_type_O'\n",
        "              ,'oldNew_N', 'oldNew_Y', 'duration_F', 'duration_L','duration_U']\n",
        "\n",
        "# performin min-max scaling each continuous feature column to the range [0, 1]\n",
        "cs = MinMaxScaler()\n",
        "trainContinuous = cs.fit_transform(train[continuous])\n",
        "testContinuous = cs.fit_transform(test[continuous])\n"
      ],
      "execution_count": 0,
      "outputs": [
        {
          "output_type": "stream",
          "text": [
            "/usr/local/lib/python3.6/dist-packages/sklearn/preprocessing/data.py:334: DataConversionWarning: Data with input dtype int64, float64 were all converted to float64 by MinMaxScaler.\n",
            "  return self.partial_fit(X, y)\n",
            "/usr/local/lib/python3.6/dist-packages/sklearn/preprocessing/data.py:334: DataConversionWarning: Data with input dtype int64, float64 were all converted to float64 by MinMaxScaler.\n",
            "  return self.partial_fit(X, y)\n"
          ],
          "name": "stderr"
        }
      ]
    },
    {
      "metadata": {
        "id": "Swv42mNlbzxB",
        "colab_type": "code",
        "colab": {}
      },
      "cell_type": "code",
      "source": [
        "#DEFINE THE TRAINING AND TEST DATAFRAMES WITH ALL COLUMNS EXCEPT PRICE\n",
        "#trainX = train[continuous]\n",
        "trainX = trainContinuous\n",
        "#testX = test[continuous]\n",
        "testX = testContinuous"
      ],
      "execution_count": 0,
      "outputs": []
    },
    {
      "metadata": {
        "id": "pExZ3zeXYXNm",
        "colab_type": "code",
        "colab": {}
      },
      "cell_type": "code",
      "source": [
        "#NORMALIZING THE PRICE\n",
        "train_price = np.reshape(train[\"price\"].values, (len(train[\"price\"]),1))\n",
        "test_price = np.reshape(test[\"price\"].values, (len(test[\"price\"]),1))\n",
        "\n",
        "trainY = cs.fit_transform(train_price)\n",
        "testY = cs.fit_transform(test_price)"
      ],
      "execution_count": 0,
      "outputs": []
    },
    {
      "metadata": {
        "id": "TWMdwK9xJP09",
        "colab_type": "text"
      },
      "cell_type": "markdown",
      "source": [
        "##5 Define NN model using Keras"
      ]
    },
    {
      "metadata": {
        "id": "m3SCNwjeIhK9",
        "colab_type": "code",
        "outputId": "89f523ee-7d38-47a9-b778-407cb7920cea",
        "colab": {
          "base_uri": "https://localhost:8080/",
          "height": 243
        }
      },
      "cell_type": "code",
      "source": [
        "#CREATE THE MODEL AND PRINT THE SUMMARY\n",
        "model = Sequential()\n",
        "model.add(Dense(20, input_dim=trainX.shape[1], activation=\"relu\"))\n",
        "model.add(Dense(10, activation=\"relu\"))\n",
        "model.add(Dense(1, activation=\"linear\"))\n",
        " \n",
        "model.summary()"
      ],
      "execution_count": 0,
      "outputs": [
        {
          "output_type": "stream",
          "text": [
            "_________________________________________________________________\n",
            "Layer (type)                 Output Shape              Param #   \n",
            "=================================================================\n",
            "dense_31 (Dense)             (None, 20)                220       \n",
            "_________________________________________________________________\n",
            "dense_32 (Dense)             (None, 10)                210       \n",
            "_________________________________________________________________\n",
            "dense_33 (Dense)             (None, 1)                 11        \n",
            "=================================================================\n",
            "Total params: 441\n",
            "Trainable params: 441\n",
            "Non-trainable params: 0\n",
            "_________________________________________________________________\n"
          ],
          "name": "stdout"
        }
      ]
    },
    {
      "metadata": {
        "id": "4XN4-F4obBYd",
        "colab_type": "code",
        "outputId": "be0fea34-10eb-4f69-bd73-e2a52f7200d8",
        "colab": {
          "base_uri": "https://localhost:8080/",
          "height": 413
        }
      },
      "cell_type": "code",
      "source": [
        "from IPython.display import SVG\n",
        "from keras.utils import vis_utils\n",
        "\n",
        "SVG(vis_utils.model_to_dot(model,show_shapes=True,show_layer_names=True).create(prog='dot',format='svg'))"
      ],
      "execution_count": 0,
      "outputs": [
        {
          "output_type": "execute_result",
          "data": {
            "text/plain": [
              "<IPython.core.display.SVG object>"
            ],
            "image/svg+xml": "<svg height=\"294pt\" viewBox=\"0.00 0.00 260.00 294.00\" width=\"260pt\" xmlns=\"http://www.w3.org/2000/svg\" xmlns:xlink=\"http://www.w3.org/1999/xlink\">\n<g class=\"graph\" id=\"graph0\" transform=\"scale(1 1) rotate(0) translate(4 290)\">\n<title>G</title>\n<polygon fill=\"#ffffff\" points=\"-4,4 -4,-290 256,-290 256,4 -4,4\" stroke=\"transparent\"/>\n<!-- 139857257963816 -->\n<g class=\"node\" id=\"node1\">\n<title>139857257963816</title>\n<polygon fill=\"none\" points=\"0,-166.5 0,-212.5 252,-212.5 252,-166.5 0,-166.5\" stroke=\"#000000\"/>\n<text fill=\"#000000\" font-family=\"Times,serif\" font-size=\"14.00\" text-anchor=\"middle\" x=\"57\" y=\"-185.8\">dense_31: Dense</text>\n<polyline fill=\"none\" points=\"114,-166.5 114,-212.5 \" stroke=\"#000000\"/>\n<text fill=\"#000000\" font-family=\"Times,serif\" font-size=\"14.00\" text-anchor=\"middle\" x=\"143\" y=\"-197.3\">input:</text>\n<polyline fill=\"none\" points=\"114,-189.5 172,-189.5 \" stroke=\"#000000\"/>\n<text fill=\"#000000\" font-family=\"Times,serif\" font-size=\"14.00\" text-anchor=\"middle\" x=\"143\" y=\"-174.3\">output:</text>\n<polyline fill=\"none\" points=\"172,-166.5 172,-212.5 \" stroke=\"#000000\"/>\n<text fill=\"#000000\" font-family=\"Times,serif\" font-size=\"14.00\" text-anchor=\"middle\" x=\"212\" y=\"-197.3\">(None, 10)</text>\n<polyline fill=\"none\" points=\"172,-189.5 252,-189.5 \" stroke=\"#000000\"/>\n<text fill=\"#000000\" font-family=\"Times,serif\" font-size=\"14.00\" text-anchor=\"middle\" x=\"212\" y=\"-174.3\">(None, 20)</text>\n</g>\n<!-- 139857257963760 -->\n<g class=\"node\" id=\"node2\">\n<title>139857257963760</title>\n<polygon fill=\"none\" points=\"0,-83.5 0,-129.5 252,-129.5 252,-83.5 0,-83.5\" stroke=\"#000000\"/>\n<text fill=\"#000000\" font-family=\"Times,serif\" font-size=\"14.00\" text-anchor=\"middle\" x=\"57\" y=\"-102.8\">dense_32: Dense</text>\n<polyline fill=\"none\" points=\"114,-83.5 114,-129.5 \" stroke=\"#000000\"/>\n<text fill=\"#000000\" font-family=\"Times,serif\" font-size=\"14.00\" text-anchor=\"middle\" x=\"143\" y=\"-114.3\">input:</text>\n<polyline fill=\"none\" points=\"114,-106.5 172,-106.5 \" stroke=\"#000000\"/>\n<text fill=\"#000000\" font-family=\"Times,serif\" font-size=\"14.00\" text-anchor=\"middle\" x=\"143\" y=\"-91.3\">output:</text>\n<polyline fill=\"none\" points=\"172,-83.5 172,-129.5 \" stroke=\"#000000\"/>\n<text fill=\"#000000\" font-family=\"Times,serif\" font-size=\"14.00\" text-anchor=\"middle\" x=\"212\" y=\"-114.3\">(None, 20)</text>\n<polyline fill=\"none\" points=\"172,-106.5 252,-106.5 \" stroke=\"#000000\"/>\n<text fill=\"#000000\" font-family=\"Times,serif\" font-size=\"14.00\" text-anchor=\"middle\" x=\"212\" y=\"-91.3\">(None, 10)</text>\n</g>\n<!-- 139857257963816&#45;&gt;139857257963760 -->\n<g class=\"edge\" id=\"edge2\">\n<title>139857257963816-&gt;139857257963760</title>\n<path d=\"M126,-166.3799C126,-158.1745 126,-148.7679 126,-139.8786\" fill=\"none\" stroke=\"#000000\"/>\n<polygon fill=\"#000000\" points=\"129.5001,-139.784 126,-129.784 122.5001,-139.784 129.5001,-139.784\" stroke=\"#000000\"/>\n</g>\n<!-- 139857268078016 -->\n<g class=\"node\" id=\"node3\">\n<title>139857268078016</title>\n<polygon fill=\"none\" points=\"0,-.5 0,-46.5 252,-46.5 252,-.5 0,-.5\" stroke=\"#000000\"/>\n<text fill=\"#000000\" font-family=\"Times,serif\" font-size=\"14.00\" text-anchor=\"middle\" x=\"57\" y=\"-19.8\">dense_33: Dense</text>\n<polyline fill=\"none\" points=\"114,-.5 114,-46.5 \" stroke=\"#000000\"/>\n<text fill=\"#000000\" font-family=\"Times,serif\" font-size=\"14.00\" text-anchor=\"middle\" x=\"143\" y=\"-31.3\">input:</text>\n<polyline fill=\"none\" points=\"114,-23.5 172,-23.5 \" stroke=\"#000000\"/>\n<text fill=\"#000000\" font-family=\"Times,serif\" font-size=\"14.00\" text-anchor=\"middle\" x=\"143\" y=\"-8.3\">output:</text>\n<polyline fill=\"none\" points=\"172,-.5 172,-46.5 \" stroke=\"#000000\"/>\n<text fill=\"#000000\" font-family=\"Times,serif\" font-size=\"14.00\" text-anchor=\"middle\" x=\"212\" y=\"-31.3\">(None, 10)</text>\n<polyline fill=\"none\" points=\"172,-23.5 252,-23.5 \" stroke=\"#000000\"/>\n<text fill=\"#000000\" font-family=\"Times,serif\" font-size=\"14.00\" text-anchor=\"middle\" x=\"212\" y=\"-8.3\">(None, 1)</text>\n</g>\n<!-- 139857257963760&#45;&gt;139857268078016 -->\n<g class=\"edge\" id=\"edge3\">\n<title>139857257963760-&gt;139857268078016</title>\n<path d=\"M126,-83.3799C126,-75.1745 126,-65.7679 126,-56.8786\" fill=\"none\" stroke=\"#000000\"/>\n<polygon fill=\"#000000\" points=\"129.5001,-56.784 126,-46.784 122.5001,-56.784 129.5001,-56.784\" stroke=\"#000000\"/>\n</g>\n<!-- 139857261692296 -->\n<g class=\"node\" id=\"node4\">\n<title>139857261692296</title>\n<polygon fill=\"none\" points=\"61.5,-249.5 61.5,-285.5 190.5,-285.5 190.5,-249.5 61.5,-249.5\" stroke=\"#000000\"/>\n<text fill=\"#000000\" font-family=\"Times,serif\" font-size=\"14.00\" text-anchor=\"middle\" x=\"126\" y=\"-263.8\">139857261692296</text>\n</g>\n<!-- 139857261692296&#45;&gt;139857257963816 -->\n<g class=\"edge\" id=\"edge1\">\n<title>139857261692296-&gt;139857257963816</title>\n<path d=\"M126,-249.4092C126,-241.4308 126,-231.795 126,-222.606\" fill=\"none\" stroke=\"#000000\"/>\n<polygon fill=\"#000000\" points=\"129.5001,-222.5333 126,-212.5333 122.5001,-222.5334 129.5001,-222.5333\" stroke=\"#000000\"/>\n</g>\n</g>\n</svg>"
          },
          "metadata": {
            "tags": []
          },
          "execution_count": 255
        }
      ]
    },
    {
      "metadata": {
        "id": "vxtZXN1GSlA_",
        "colab_type": "code",
        "colab": {}
      },
      "cell_type": "code",
      "source": [
        "#DEFINE THE LEARNING RATE AND COMPILE THE MODEL\n",
        "epochsv = 20\n",
        "lrv = 1e-3\n",
        "batchv = 64\n",
        "opt = Adam(lr=lrv\n",
        "           ,decay=lrv / epochsv\n",
        "          )\n",
        "\n",
        "model.compile(loss=\"mean_squared_error\", \n",
        "              optimizer=opt,\n",
        "              metrics=['mean_absolute_error', 'mean_squared_error','accuracy']\n",
        "              )"
      ],
      "execution_count": 0,
      "outputs": []
    },
    {
      "metadata": {
        "id": "Bj067v-H_1gU",
        "colab_type": "text"
      },
      "cell_type": "markdown",
      "source": [
        "##6 Training the NN model"
      ]
    },
    {
      "metadata": {
        "id": "LpETpAh_y5pA",
        "colab_type": "code",
        "outputId": "eb4f82f5-e90f-4e13-8f1b-96a414798f1c",
        "colab": {
          "base_uri": "https://localhost:8080/",
          "height": 729
        }
      },
      "cell_type": "code",
      "source": [
        "# train the model\n",
        "print(\"[INFO] training model...\")\n",
        "history = model.fit(trainX, trainY\n",
        "                    #,validation_data=(testX, testY)\n",
        "                    ,epochs=epochsv\n",
        "                    ,batch_size=batchv\n",
        "                   )"
      ],
      "execution_count": 0,
      "outputs": [
        {
          "output_type": "stream",
          "text": [
            "[INFO] training model...\n",
            "Epoch 1/20\n",
            "5136/5136 [==============================] - 1s 167us/step - loss: 0.0032 - mean_absolute_error: 0.0344 - mean_squared_error: 0.0032 - acc: 1.9470e-04\n",
            "Epoch 2/20\n",
            "5136/5136 [==============================] - 0s 64us/step - loss: 8.9548e-04 - mean_absolute_error: 0.0150 - mean_squared_error: 8.9548e-04 - acc: 1.9470e-04\n",
            "Epoch 3/20\n",
            "5136/5136 [==============================] - 0s 66us/step - loss: 6.8107e-04 - mean_absolute_error: 0.0115 - mean_squared_error: 6.8107e-04 - acc: 1.9470e-04\n",
            "Epoch 4/20\n",
            "5136/5136 [==============================] - 0s 67us/step - loss: 6.0135e-04 - mean_absolute_error: 0.0099 - mean_squared_error: 6.0135e-04 - acc: 1.9470e-04\n",
            "Epoch 5/20\n",
            "5136/5136 [==============================] - 0s 64us/step - loss: 5.4840e-04 - mean_absolute_error: 0.0086 - mean_squared_error: 5.4840e-04 - acc: 1.9470e-04\n",
            "Epoch 6/20\n",
            "5136/5136 [==============================] - 0s 66us/step - loss: 5.2487e-04 - mean_absolute_error: 0.0083 - mean_squared_error: 5.2487e-04 - acc: 1.9470e-04\n",
            "Epoch 7/20\n",
            "5136/5136 [==============================] - 0s 65us/step - loss: 5.1554e-04 - mean_absolute_error: 0.0082 - mean_squared_error: 5.1554e-04 - acc: 1.9470e-04\n",
            "Epoch 8/20\n",
            "5136/5136 [==============================] - 0s 65us/step - loss: 5.0876e-04 - mean_absolute_error: 0.0082 - mean_squared_error: 5.0876e-04 - acc: 1.9470e-04\n",
            "Epoch 9/20\n",
            "5136/5136 [==============================] - 0s 68us/step - loss: 4.9859e-04 - mean_absolute_error: 0.0080 - mean_squared_error: 4.9859e-04 - acc: 1.9470e-04\n",
            "Epoch 10/20\n",
            "5136/5136 [==============================] - 0s 66us/step - loss: 4.8605e-04 - mean_absolute_error: 0.0074 - mean_squared_error: 4.8605e-04 - acc: 1.9470e-04\n",
            "Epoch 11/20\n",
            "5136/5136 [==============================] - 0s 64us/step - loss: 4.7627e-04 - mean_absolute_error: 0.0069 - mean_squared_error: 4.7627e-04 - acc: 1.9470e-04\n",
            "Epoch 12/20\n",
            "5136/5136 [==============================] - 0s 68us/step - loss: 4.7650e-04 - mean_absolute_error: 0.0072 - mean_squared_error: 4.7650e-04 - acc: 1.9470e-04\n",
            "Epoch 13/20\n",
            "5136/5136 [==============================] - 0s 64us/step - loss: 4.7333e-04 - mean_absolute_error: 0.0071 - mean_squared_error: 4.7333e-04 - acc: 1.9470e-04\n",
            "Epoch 14/20\n",
            "5136/5136 [==============================] - 0s 64us/step - loss: 4.7405e-04 - mean_absolute_error: 0.0071 - mean_squared_error: 4.7405e-04 - acc: 1.9470e-04\n",
            "Epoch 15/20\n",
            "5136/5136 [==============================] - 0s 67us/step - loss: 4.6319e-04 - mean_absolute_error: 0.0066 - mean_squared_error: 4.6319e-04 - acc: 1.9470e-04\n",
            "Epoch 16/20\n",
            "5136/5136 [==============================] - 0s 66us/step - loss: 4.7163e-04 - mean_absolute_error: 0.0074 - mean_squared_error: 4.7163e-04 - acc: 1.9470e-04\n",
            "Epoch 17/20\n",
            "5136/5136 [==============================] - 0s 66us/step - loss: 4.8669e-04 - mean_absolute_error: 0.0080 - mean_squared_error: 4.8669e-04 - acc: 1.9470e-04\n",
            "Epoch 18/20\n",
            "5136/5136 [==============================] - 0s 67us/step - loss: 4.6044e-04 - mean_absolute_error: 0.0067 - mean_squared_error: 4.6044e-04 - acc: 1.9470e-04\n",
            "Epoch 19/20\n",
            "5136/5136 [==============================] - 0s 64us/step - loss: 4.6954e-04 - mean_absolute_error: 0.0074 - mean_squared_error: 4.6954e-04 - acc: 1.9470e-04\n",
            "Epoch 20/20\n",
            "5136/5136 [==============================] - 0s 64us/step - loss: 4.6130e-04 - mean_absolute_error: 0.0069 - mean_squared_error: 4.6130e-04 - acc: 1.9470e-04\n"
          ],
          "name": "stdout"
        }
      ]
    },
    {
      "metadata": {
        "id": "2bIYjghBCxFV",
        "colab_type": "text"
      },
      "cell_type": "markdown",
      "source": [
        "##7 Evaluation and results"
      ]
    },
    {
      "metadata": {
        "id": "28e2dWF3CuEs",
        "colab_type": "text"
      },
      "cell_type": "markdown",
      "source": [
        ""
      ]
    },
    {
      "metadata": {
        "id": "cPH2lRuYtFEB",
        "colab_type": "code",
        "colab": {}
      },
      "cell_type": "code",
      "source": [
        "# PREDICTION\n",
        "trainPredict = model.predict(trainX)\n",
        "testPredict = model.predict(testX)\n"
      ],
      "execution_count": 0,
      "outputs": []
    },
    {
      "metadata": {
        "id": "V7nIKO3qsGxy",
        "colab_type": "code",
        "outputId": "c0be38b4-617d-4b13-aafc-1169dd2699b6",
        "colab": {
          "base_uri": "https://localhost:8080/",
          "height": 52
        }
      },
      "cell_type": "code",
      "source": [
        "# TRAINING RMSE\n",
        "trainScore = np.sqrt(mean_squared_error(trainY, trainPredict))\n",
        "print('Train RMSE: %.10f' % (trainScore))\n",
        "\n",
        "# TEST RMSE\n",
        "testScore = np.sqrt(mean_squared_error(testY, testPredict))\n",
        "print('Test RMSE: %.10f' % (testScore))"
      ],
      "execution_count": 0,
      "outputs": [
        {
          "output_type": "stream",
          "text": [
            "Train RMSE: 0.0212015077\n",
            "Test RMSE: 0.0418664847\n"
          ],
          "name": "stdout"
        }
      ]
    },
    {
      "metadata": {
        "id": "wH-ZE_XDr8qp",
        "colab_type": "code",
        "colab": {}
      },
      "cell_type": "code",
      "source": [
        "# DE-NORMALIZING FOR PLOTTING\n",
        "trainPredicti = cs.inverse_transform(trainPredict)\n",
        "trainYi = cs.inverse_transform(trainY)\n",
        "testPredicti = cs.inverse_transform(testPredict)\n",
        "testYi = cs.inverse_transform(testY)"
      ],
      "execution_count": 0,
      "outputs": []
    },
    {
      "metadata": {
        "id": "8x8T0Hi5NI0G",
        "colab_type": "code",
        "outputId": "960e41c3-a38c-47d4-855e-7a8095de1cd5",
        "colab": {
          "base_uri": "https://localhost:8080/",
          "height": 52
        }
      },
      "cell_type": "code",
      "source": [
        "# TRAINING RMSE DE-NORMALIZED\n",
        "trainScore = np.sqrt(mean_squared_error(trainYi, trainPredicti[:,0]))\n",
        "print('Train RMSE: %.2f' % (trainScore))\n",
        "\n",
        "# TEST RMSE\n",
        "testScore = np.sqrt(mean_squared_error(testYi, testPredicti[:,0]))\n",
        "print('Test RMSE: %.2f' % (testScore))"
      ],
      "execution_count": 0,
      "outputs": [
        {
          "output_type": "stream",
          "text": [
            "Train RMSE: 109662.98\n",
            "Test RMSE: 216550.81\n"
          ],
          "name": "stdout"
        }
      ]
    },
    {
      "metadata": {
        "id": "8rn7wnk2GnxG",
        "colab_type": "text"
      },
      "cell_type": "markdown",
      "source": [
        "Train RMSE: 69367.54\n",
        "Test RMSE: 143270.21"
      ]
    },
    {
      "metadata": {
        "id": "jntea5guryGj",
        "colab_type": "code",
        "outputId": "0edaa55c-8fe2-418d-db1f-244eb24110ae",
        "colab": {
          "base_uri": "https://localhost:8080/",
          "height": 52
        }
      },
      "cell_type": "code",
      "source": [
        "# TRAINING MSE DE-NORMALIZED\n",
        "trainScore = mean_squared_error(trainYi, trainPredicti[:,0])\n",
        "print('Train MSE: %.2f' % (trainScore))\n",
        "\n",
        "# TEST MSE\n",
        "testScore = mean_squared_error(testYi, testPredicti[:,0])\n",
        "print('Test MSE: %.2f' % (testScore))"
      ],
      "execution_count": 0,
      "outputs": [
        {
          "output_type": "stream",
          "text": [
            "Train MSE: 12025970050.66\n",
            "Test MSE: 46894253080.25\n"
          ],
          "name": "stdout"
        }
      ]
    },
    {
      "metadata": {
        "id": "4k4CghY3s6kk",
        "colab_type": "code",
        "outputId": "eadf0676-1967-4d02-c72d-134cff5cd9ae",
        "colab": {
          "base_uri": "https://localhost:8080/",
          "height": 1049
        }
      },
      "cell_type": "code",
      "source": [
        "def plot_history(history):\n",
        "  hist = pd.DataFrame(history.history)\n",
        "  hist['epoch'] = history.epoch\n",
        "  \n",
        "  plt.figure()\n",
        "  plt.xlabel('Epoch')\n",
        "  plt.ylabel('Mean Abs Error [price]')\n",
        "  plt.plot(hist['epoch'], hist['mean_absolute_error'],\n",
        "           label='Train Error')\n",
        "  #plt.plot(hist['epoch'], hist['val_mean_absolute_error'],\n",
        "  #         label='Test Error')\n",
        "  plt.legend()\n",
        "  \n",
        "  plt.figure()\n",
        "  plt.xlabel('Epoch')\n",
        "  plt.ylabel('Mean Square Error [$price^2$]')\n",
        "  plt.plot(hist['epoch'], hist['mean_squared_error'],\n",
        "           label='Train Error')\n",
        "  #plt.plot(hist['epoch'], hist['val_mean_squared_error'],\n",
        "  #         label='Test Error')\n",
        "  plt.legend()\n",
        "  plt.figure()\n",
        "  plt.xlabel('Epoch')\n",
        "  plt.ylabel('Loss')\n",
        "  plt.plot(hist['epoch'], hist['loss'],\n",
        "           label='Loss')\n",
        "  #plt.plot(hist['epoch'], hist['val_loss'],\n",
        "  #         label='Val Loss')\n",
        "  plt.legend()\n",
        "  plt.show()\n",
        "\n",
        "plot_history(history)"
      ],
      "execution_count": 0,
      "outputs": [
        {
          "output_type": "display_data",
          "data": {
            "image/png": "[encoded data removed]",
            "text/plain": [
              "<Figure size 576x396 with 1 Axes>"
            ]
          },
          "metadata": {
            "tags": []
          }
        },
        {
          "output_type": "display_data",
          "data": {
            "image/png": "[encoded data removed]",
            "text/plain": [
              "<Figure size 576x396 with 1 Axes>"
            ]
          },
          "metadata": {
            "tags": []
          }
        },
        {
          "output_type": "display_data",
          "data": {
            "image/png": "[encoded data removed]",
            "text/plain": [
              "<Figure size 576x396 with 1 Axes>"
            ]
          },
          "metadata": {
            "tags": []
          }
        }
      ]
    }
  ]
}