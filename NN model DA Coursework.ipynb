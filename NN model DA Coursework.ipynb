{
 "cells": [
  {
   "cell_type": "markdown",
   "metadata": {},
   "source": [
    "# Data Analytics Coursework  "
   ]
  },
  {
   "cell_type": "code",
   "execution_count": 11,
   "metadata": {},
   "outputs": [],
   "source": [
    "import numpy as np\n",
    "import pandas as pd\n",
    "import matplotlib.pyplot as plt"
   ]
  },
  {
   "cell_type": "markdown",
   "metadata": {},
   "source": [
    "## Import the dataset\n",
    " Print the shape of the dataframe"
   ]
  },
  {
   "cell_type": "code",
   "execution_count": 3,
   "metadata": {},
   "outputs": [
    {
     "data": {
      "text/plain": [
       "(3154384, 17)"
      ]
     },
     "execution_count": 3,
     "metadata": {},
     "output_type": "execute_result"
    }
   ],
   "source": [
    "df = pd.read_csv('london.csv', sep=',',  header=0)\n",
    "df.shape"
   ]
  },
  {
   "cell_type": "markdown",
   "metadata": {},
   "source": [
    " Visualise first 2 rows"
   ]
  },
  {
   "cell_type": "code",
   "execution_count": 36,
   "metadata": {},
   "outputs": [
    {
     "data": {
      "text/html": [
       "<div>\n",
       "<style scoped>\n",
       "    .dataframe tbody tr th:only-of-type {\n",
       "        vertical-align: middle;\n",
       "    }\n",
       "\n",
       "    .dataframe tbody tr th {\n",
       "        vertical-align: top;\n",
       "    }\n",
       "\n",
       "    .dataframe thead th {\n",
       "        text-align: right;\n",
       "    }\n",
       "</style>\n",
       "<table border=\"1\" class=\"dataframe\">\n",
       "  <thead>\n",
       "    <tr style=\"text-align: right;\">\n",
       "      <th></th>\n",
       "      <th>Unnamed: 0</th>\n",
       "      <th>V1</th>\n",
       "      <th>V2</th>\n",
       "      <th>V3</th>\n",
       "      <th>V4</th>\n",
       "      <th>V5</th>\n",
       "      <th>V6</th>\n",
       "      <th>V7</th>\n",
       "      <th>V8</th>\n",
       "      <th>V9</th>\n",
       "      <th>V10</th>\n",
       "      <th>V11</th>\n",
       "      <th>V12</th>\n",
       "      <th>V13</th>\n",
       "      <th>V14</th>\n",
       "      <th>V15</th>\n",
       "      <th>V16</th>\n",
       "    </tr>\n",
       "  </thead>\n",
       "  <tbody>\n",
       "    <tr>\n",
       "      <th>0</th>\n",
       "      <td>3</td>\n",
       "      <td>{024F306B-9F59-4D5F-8EE9-B6698ED0A538}</td>\n",
       "      <td>93500</td>\n",
       "      <td>1995-07-27 00:00</td>\n",
       "      <td>UB8 2AP</td>\n",
       "      <td>D</td>\n",
       "      <td>N</td>\n",
       "      <td>F</td>\n",
       "      <td>7</td>\n",
       "      <td>NaN</td>\n",
       "      <td>WELLINGTON ROAD</td>\n",
       "      <td>UXBRIDGE</td>\n",
       "      <td>UXBRIDGE</td>\n",
       "      <td>HILLINGDON</td>\n",
       "      <td>GREATER LONDON</td>\n",
       "      <td>A</td>\n",
       "      <td>A</td>\n",
       "    </tr>\n",
       "    <tr>\n",
       "      <th>1</th>\n",
       "      <td>9</td>\n",
       "      <td>{DF2A5520-3FFF-4970-BE62-B2E652EAF0DB}</td>\n",
       "      <td>139950</td>\n",
       "      <td>1995-09-15 00:00</td>\n",
       "      <td>HA5 2TP</td>\n",
       "      <td>D</td>\n",
       "      <td>N</td>\n",
       "      <td>F</td>\n",
       "      <td>1</td>\n",
       "      <td>NaN</td>\n",
       "      <td>BURLINGTON CLOSE</td>\n",
       "      <td>PINNER</td>\n",
       "      <td>PINNER</td>\n",
       "      <td>HILLINGDON</td>\n",
       "      <td>GREATER LONDON</td>\n",
       "      <td>A</td>\n",
       "      <td>A</td>\n",
       "    </tr>\n",
       "  </tbody>\n",
       "</table>\n",
       "</div>"
      ],
      "text/plain": [
       "   Unnamed: 0                                      V1      V2  \\\n",
       "0           3  {024F306B-9F59-4D5F-8EE9-B6698ED0A538}   93500   \n",
       "1           9  {DF2A5520-3FFF-4970-BE62-B2E652EAF0DB}  139950   \n",
       "\n",
       "                 V3       V4 V5 V6 V7 V8   V9               V10       V11  \\\n",
       "0  1995-07-27 00:00  UB8 2AP  D  N  F  7  NaN   WELLINGTON ROAD  UXBRIDGE   \n",
       "1  1995-09-15 00:00  HA5 2TP  D  N  F  1  NaN  BURLINGTON CLOSE    PINNER   \n",
       "\n",
       "        V12         V13             V14 V15 V16  \n",
       "0  UXBRIDGE  HILLINGDON  GREATER LONDON   A   A  \n",
       "1    PINNER  HILLINGDON  GREATER LONDON   A   A  "
      ]
     },
     "execution_count": 36,
     "metadata": {},
     "output_type": "execute_result"
    }
   ],
   "source": [
    "df.head(2)"
   ]
  },
  {
   "cell_type": "markdown",
   "metadata": {},
   "source": [
    " Remove the first column"
   ]
  },
  {
   "cell_type": "code",
   "execution_count": 4,
   "metadata": {
    "scrolled": true
   },
   "outputs": [
    {
     "data": {
      "text/plain": [
       "(3154384, 16)"
      ]
     },
     "execution_count": 4,
     "metadata": {},
     "output_type": "execute_result"
    }
   ],
   "source": [
    "df.drop(columns=['Unnamed: 0'],inplace=True)\n",
    "df.shape"
   ]
  },
  {
   "cell_type": "code",
   "execution_count": 6,
   "metadata": {},
   "outputs": [
    {
     "data": {
      "text/html": [
       "<div>\n",
       "<style scoped>\n",
       "    .dataframe tbody tr th:only-of-type {\n",
       "        vertical-align: middle;\n",
       "    }\n",
       "\n",
       "    .dataframe tbody tr th {\n",
       "        vertical-align: top;\n",
       "    }\n",
       "\n",
       "    .dataframe thead th {\n",
       "        text-align: right;\n",
       "    }\n",
       "</style>\n",
       "<table border=\"1\" class=\"dataframe\">\n",
       "  <thead>\n",
       "    <tr style=\"text-align: right;\">\n",
       "      <th></th>\n",
       "      <th>uniqueId</th>\n",
       "      <th>Price</th>\n",
       "      <th>dateOfTransfer</th>\n",
       "      <th>postCode</th>\n",
       "      <th>propertyType</th>\n",
       "      <th>oldNew</th>\n",
       "      <th>duration</th>\n",
       "      <th>PAON</th>\n",
       "      <th>SAON</th>\n",
       "      <th>Street</th>\n",
       "      <th>locality</th>\n",
       "      <th>townCity</th>\n",
       "      <th>district</th>\n",
       "      <th>county</th>\n",
       "      <th>ppdCategoryType</th>\n",
       "      <th>recordStatus</th>\n",
       "    </tr>\n",
       "  </thead>\n",
       "  <tbody>\n",
       "    <tr>\n",
       "      <th>0</th>\n",
       "      <td>{024F306B-9F59-4D5F-8EE9-B6698ED0A538}</td>\n",
       "      <td>93500</td>\n",
       "      <td>1995-07-27 00:00</td>\n",
       "      <td>UB8 2AP</td>\n",
       "      <td>D</td>\n",
       "      <td>N</td>\n",
       "      <td>F</td>\n",
       "      <td>7</td>\n",
       "      <td>NaN</td>\n",
       "      <td>WELLINGTON ROAD</td>\n",
       "      <td>UXBRIDGE</td>\n",
       "      <td>UXBRIDGE</td>\n",
       "      <td>HILLINGDON</td>\n",
       "      <td>GREATER LONDON</td>\n",
       "      <td>A</td>\n",
       "      <td>A</td>\n",
       "    </tr>\n",
       "    <tr>\n",
       "      <th>1</th>\n",
       "      <td>{DF2A5520-3FFF-4970-BE62-B2E652EAF0DB}</td>\n",
       "      <td>139950</td>\n",
       "      <td>1995-09-15 00:00</td>\n",
       "      <td>HA5 2TP</td>\n",
       "      <td>D</td>\n",
       "      <td>N</td>\n",
       "      <td>F</td>\n",
       "      <td>1</td>\n",
       "      <td>NaN</td>\n",
       "      <td>BURLINGTON CLOSE</td>\n",
       "      <td>PINNER</td>\n",
       "      <td>PINNER</td>\n",
       "      <td>HILLINGDON</td>\n",
       "      <td>GREATER LONDON</td>\n",
       "      <td>A</td>\n",
       "      <td>A</td>\n",
       "    </tr>\n",
       "  </tbody>\n",
       "</table>\n",
       "</div>"
      ],
      "text/plain": [
       "                                 uniqueId   Price    dateOfTransfer postCode  \\\n",
       "0  {024F306B-9F59-4D5F-8EE9-B6698ED0A538}   93500  1995-07-27 00:00  UB8 2AP   \n",
       "1  {DF2A5520-3FFF-4970-BE62-B2E652EAF0DB}  139950  1995-09-15 00:00  HA5 2TP   \n",
       "\n",
       "  propertyType oldNew duration PAON SAON            Street  locality  \\\n",
       "0            D      N        F    7  NaN   WELLINGTON ROAD  UXBRIDGE   \n",
       "1            D      N        F    1  NaN  BURLINGTON CLOSE    PINNER   \n",
       "\n",
       "   townCity    district          county ppdCategoryType recordStatus  \n",
       "0  UXBRIDGE  HILLINGDON  GREATER LONDON               A            A  \n",
       "1    PINNER  HILLINGDON  GREATER LONDON               A            A  "
      ]
     },
     "execution_count": 6,
     "metadata": {},
     "output_type": "execute_result"
    }
   ],
   "source": [
    "df.rename(columns={'V1':'uniqueId',\n",
    "                   'V2':'Price',\n",
    "                    'V3':'dateOfTransfer',\n",
    "                    'V4':'postCode',\n",
    "                    'V5':'propertyType',\n",
    "                    'V6':'oldNew',\n",
    "                    'V7':'duration',\n",
    "                    'V8':'PAON',\n",
    "                    'V9':'SAON',\n",
    "                    'V10':'Street',\n",
    "                    'V11':'locality',\n",
    "                    'V12':'townCity',\n",
    "                    'V13':'district',\n",
    "                    'V14':'county',\n",
    "                    'V15':'ppdCategoryType',\n",
    "                    'V16':'recordStatus'},\n",
    "          inplace = True)\n",
    "df.head(2)"
   ]
  },
  {
   "cell_type": "code",
   "execution_count": 7,
   "metadata": {},
   "outputs": [
    {
     "data": {
      "text/plain": [
       "district\n",
       "BARKING AND DAGENHAM       59328\n",
       "BARNET                    134914\n",
       "BEXLEY                     96381\n",
       "BRENT                      84073\n",
       "BROMLEY                   147072\n",
       "CAMDEN                     77010\n",
       "CITY OF LONDON              7978\n",
       "CITY OF WESTMINSTER       112868\n",
       "CROYDON                   146442\n",
       "EALING                    111192\n",
       "ENFIELD                   115861\n",
       "GREENWICH                  93448\n",
       "HACKNEY                    67323\n",
       "HAMMERSMITH AND FULHAM     77426\n",
       "HARINGEY                   82522\n",
       "HARROW                     78495\n",
       "HAVERING                   93656\n",
       "HILLINGDON                103721\n",
       "HOUNSLOW                   86017\n",
       "ISLINGTON                  69393\n",
       "KENSINGTON AND CHELSEA     80318\n",
       "KINGSTON UPON THAMES       74723\n",
       "LAMBETH                   118519\n",
       "LEWISHAM                  109099\n",
       "MERTON                     87295\n",
       "NEWHAM                     87333\n",
       "REDBRIDGE                 102181\n",
       "RICHMOND UPON THAMES       97114\n",
       "SOUTHWARK                 101268\n",
       "SUTTON                     90179\n",
       "TOWER HAMLETS             103220\n",
       "WALTHAM FOREST             93178\n",
       "WANDSWORTH                164837\n",
       "dtype: int64"
      ]
     },
     "execution_count": 7,
     "metadata": {},
     "output_type": "execute_result"
    }
   ],
   "source": [
    "df.groupby(['district']).size()"
   ]
  },
  {
   "cell_type": "code",
   "execution_count": 45,
   "metadata": {},
   "outputs": [
    {
     "data": {
      "text/plain": [
       "district\n",
       "BARKING AND DAGENHAM       9874506774\n",
       "BARNET                    46536940185\n",
       "BEXLEY                    18692198020\n",
       "BRENT                     24330293865\n",
       "BROMLEY                   40604628207\n",
       "CAMDEN                    47915785821\n",
       "CITY OF LONDON            11417487584\n",
       "CITY OF WESTMINSTER       99867550921\n",
       "CROYDON                   32431530872\n",
       "EALING                    34130286885\n",
       "ENFIELD                   26349250211\n",
       "GREENWICH                 23776511206\n",
       "HACKNEY                   22287297237\n",
       "HAMMERSMITH AND FULHAM    39316907127\n",
       "HARINGEY                  25273355623\n",
       "HARROW                    21751840846\n",
       "HAVERING                  20401342520\n",
       "HILLINGDON                26821241853\n",
       "HOUNSLOW                  24823288483\n",
       "ISLINGTON                 30207779050\n",
       "KENSINGTON AND CHELSEA    76635226602\n",
       "KINGSTON UPON THAMES      22548354939\n",
       "LAMBETH                   38402284000\n",
       "LEWISHAM                  25029229939\n",
       "MERTON                    28060974481\n",
       "NEWHAM                    18271227125\n",
       "REDBRIDGE                 23718522666\n",
       "RICHMOND UPON THAMES      42499207789\n",
       "SOUTHWARK                 37136381131\n",
       "SUTTON                    20152775708\n",
       "TOWER HAMLETS             35931399988\n",
       "WALTHAM FOREST            19503311780\n",
       "WANDSWORTH                66575232164\n",
       "Name: Price, dtype: int64"
      ]
     },
     "execution_count": 45,
     "metadata": {},
     "output_type": "execute_result"
    }
   ],
   "source": [
    "df.groupby(['district'])['Price'].agg('sum')"
   ]
  },
  {
   "cell_type": "markdown",
   "metadata": {},
   "source": [
    "Subset of year 2018"
   ]
  },
  {
   "cell_type": "code",
   "execution_count": 19,
   "metadata": {},
   "outputs": [],
   "source": [
    "#df.plot(kind='bar',x='district',y='Price')\n",
    "df_2018 = df[pd.DatetimeIndex(df['dateOfTransfer']).year == 2018]\n",
    "#pd.DatetimeIndex(df['dateOfTransfer']).year == 2018"
   ]
  },
  {
   "cell_type": "markdown",
   "metadata": {},
   "source": [
    "Plot of 2018"
   ]
  },
  {
   "cell_type": "code",
   "execution_count": 20,
   "metadata": {},
   "outputs": [
    {
     "data": {
      "image/png": "[encoded data removed]",
      "text/plain": [
       "<Figure size 432x288 with 1 Axes>"
      ]
     },
     "metadata": {
      "needs_background": "light"
     },
     "output_type": "display_data"
    }
   ],
   "source": [
    "df_2018.groupby(['district',pd.DatetimeIndex(df_2018['dateOfTransfer']).month])['Price'].agg('sum').unstack().plot(kind='bar',stacked=True)\n",
    "plt.show()"
   ]
  }
 ],
 "metadata": {
  "kernelspec": {
   "display_name": "Python 3",
   "language": "python",
   "name": "python3"
  },
  "language_info": {
   "codemirror_mode": {
    "name": "ipython",
    "version": 3
   },
   "file_extension": ".py",
   "mimetype": "text/x-python",
   "name": "python",
   "nbconvert_exporter": "python",
   "pygments_lexer": "ipython3",
   "version": "3.6.8"
  }
 },
 "nbformat": 4,
 "nbformat_minor": 2
}
