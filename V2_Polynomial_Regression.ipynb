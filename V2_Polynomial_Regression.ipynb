{
  "nbformat": 4,
  "nbformat_minor": 0,
  "metadata": {
    "colab": {
      "name": "V2_Polynomial_Regression.ipynb",
      "version": "0.3.2",
      "provenance": [],
      "collapsed_sections": []
    },
    "kernelspec": {
      "display_name": "Python 3",
      "language": "python",
      "name": "python3"
    },
    "accelerator": "GPU"
  },
  "cells": [
    {
      "metadata": {
        "id": "GSIsH5itTL2_",
        "colab_type": "text"
      },
      "cell_type": "markdown",
      "source": [
        "#Multiple Linear Regression and Polinomial Regression for house price prediction\n",
        "\n"
      ]
    },
    {
      "metadata": {
        "colab_type": "code",
        "id": "pHF9mVcu6bl4",
        "colab": {}
      },
      "cell_type": "code",
      "source": [
        "import numpy as np\n",
        "import math as math\n",
        "import pandas as pd\n",
        "import matplotlib.pyplot as plt\n",
        "import datetime as dt\n",
        "from sklearn.metrics import mean_squared_error\n",
        "from sklearn.model_selection import train_test_split\n",
        "from google.colab import auth\n",
        "from google.colab import drive\n",
        "from sklearn.linear_model import LinearRegression\n",
        "from sklearn.preprocessing import PolynomialFeatures\n",
        "from sklearn.pipeline import Pipeline\n",
        "from sklearn import linear_model"
      ],
      "execution_count": 0,
      "outputs": []
    },
    {
      "metadata": {
        "colab_type": "code",
        "id": "BViYqDaa6jL3",
        "outputId": "b2576942-5fe5-4e4b-be14-68426dac96d0",
        "colab": {
          "base_uri": "https://localhost:8080/",
          "height": 124
        }
      },
      "cell_type": "code",
      "source": [
        "drive.mount('/content/gdrive') #mount the googledrive\n",
        "#!ls \"/content/gdrive/My Drive/DA_Coursework/3. Data\" #list the content"
      ],
      "execution_count": 2,
      "outputs": [
        {
          "output_type": "stream",
          "text": [
            "Go to this URL in a browser: https://accounts.google.com/o/oauth2/auth?client_id=947318989803-6bn6qk8qdgf4n4g3pfee6491hc0brc4i.apps.googleusercontent.com&redirect_uri=urn%3Aietf%3Awg%3Aoauth%3A2.0%3Aoob&scope=email%20https%3A%2F%2Fwww.googleapis.com%2Fauth%2Fdocs.test%20https%3A%2F%2Fwww.googleapis.com%2Fauth%2Fdrive%20https%3A%2F%2Fwww.googleapis.com%2Fauth%2Fdrive.photos.readonly%20https%3A%2F%2Fwww.googleapis.com%2Fauth%2Fpeopleapi.readonly&response_type=code\n",
            "\n",
            "Enter your authorization code:\n",
            "··········\n",
            "Mounted at /content/gdrive\n"
          ],
          "name": "stdout"
        }
      ]
    },
    {
      "metadata": {
        "id": "_xed0fuqTXol",
        "colab_type": "text"
      },
      "cell_type": "markdown",
      "source": [
        "##1 Load Dataset"
      ]
    },
    {
      "metadata": {
        "colab_type": "code",
        "id": "hpeoUqemFZec",
        "colab": {}
      },
      "cell_type": "code",
      "source": [
        "#s_boroughs = pd.read_csv(\"/content/gdrive/My Drive/DA_Coursework/3. Data/londonBoroughs.csv\")\n",
        "#s_boroughs = pd.read_csv(\"/content/gdrive/My Drive/DA_Coursework/3. Data/londonBoroughsWO_Others.csv\")\n",
        "#s_boroughs = pd.read_csv(\"/content/gdrive/My Drive/DA_Coursework/3. Data/londonWoOtherWoOutliers.csv\")\n",
        "s_boroughs = pd.read_csv(\"/content/gdrive/My Drive/DA_Coursework/3. Data/londonBoroughs_realprice.csv\")\n",
        "\n",
        "#s_boroughs"
      ],
      "execution_count": 0,
      "outputs": []
    },
    {
      "metadata": {
        "id": "DCXayQBSTbQd",
        "colab_type": "text"
      },
      "cell_type": "markdown",
      "source": [
        "##2 Select filters"
      ]
    },
    {
      "metadata": {
        "id": "R6Cr8jN5gZpr",
        "colab_type": "code",
        "colab": {}
      },
      "cell_type": "code",
      "source": [
        "# CHOOSE NOMINAL OR REAL PRICE FILE\n",
        "#nom_real = \"londonBoroughs.csv\"\n",
        "#nom_real = \"londonBoroughs_realprice.csv\"\n",
        "\n",
        "# CHOOSE A DISTRICT\n",
        "# district = 'CITY OF WESTMINSTER'\n",
        "#district = 'LAMBETH'\n",
        "# district = 'CROYDON'\n",
        "\n",
        "# SETTING PROPERTY TYPE TO \"OTHERS\"\n",
        "property_type = 'O'\n",
        "\n",
        "# SETTING LOWER ADN UPPER PRICE BOUNDS FOR OUTLIERS\n",
        "lower_price = 20000\n",
        "upper_price = 30000000\n",
        "\n",
        "#data_df = pd.read_csv(Path + nom_real)\n",
        "#data_df = data_df[data_df['district']==district]\n",
        "s_boroughs = s_boroughs[s_boroughs['propertyType']!=property_type]\n",
        "s_boroughs = s_boroughs[(s_boroughs['price']>=lower_price) & (s_boroughs['price']<=upper_price)]\n",
        "#s_boroughs['dateOfTransfer'] = pd.to_datetime(data_df['dateOfTransfer']).map(dt.date.toordinal)\n",
        "\n",
        "# CHOOOSE A FILTER DATE\n",
        "# filter_date = '2010-01-01'\n",
        "# filter_date = '2000-01-01'\n",
        "# data_df = data_df[data_df['dateOfTransfer']<filter_date] # filtering for data on or after filter_date\n",
        "# print('date range =', data_df['dateOfTransfer'][:1], data_df['dateOfTransfer'][-1:])"
      ],
      "execution_count": 0,
      "outputs": []
    },
    {
      "metadata": {
        "id": "KrbHjyscTj0V",
        "colab_type": "text"
      },
      "cell_type": "markdown",
      "source": [
        "##3 Add dummy values and convert date"
      ]
    },
    {
      "metadata": {
        "colab_type": "code",
        "id": "BwtWnbgyFgRK",
        "colab": {}
      },
      "cell_type": "code",
      "source": [
        "#Convert Date to numerical value for the three datasets:\n",
        "\n",
        "s_boroughs['dateOfTransfer'] = pd.to_datetime(s_boroughs['dateOfTransfer'])\n",
        "s_boroughs['dateOfTransfer'] = s_boroughs['dateOfTransfer'].map(dt.datetime.toordinal)"
      ],
      "execution_count": 0,
      "outputs": []
    },
    {
      "metadata": {
        "colab_type": "code",
        "id": "r4MaanSwFhYM",
        "colab": {}
      },
      "cell_type": "code",
      "source": [
        "#Create the dummy values for categorical values (Property Type, Old/New, Duration, PPD)\n",
        "s_boroughs = pd.concat([s_boroughs,pd.get_dummies(s_boroughs['propertyType'], prefix='prop_type')],axis=1)\n",
        "s_boroughs = pd.concat([s_boroughs,pd.get_dummies(s_boroughs['oldNew'], prefix='oldNew')],axis=1)\n",
        "s_boroughs = pd.concat([s_boroughs,pd.get_dummies(s_boroughs['duration'], prefix='duration')],axis=1)\n",
        "#s_boroughs = pd.concat([s_boroughs,pd.get_dummies(s_boroughs['ppdCategoryType'], prefix='ppdCategoryType')],axis=1)"
      ],
      "execution_count": 0,
      "outputs": []
    },
    {
      "metadata": {
        "colab_type": "code",
        "id": "N2V5LiZAFmNu",
        "colab": {}
      },
      "cell_type": "code",
      "source": [
        "#Divide the dataset in three boroughs:\n",
        "df_lambeth = s_boroughs.loc[s_boroughs['district']=='LAMBETH'] \n",
        "df_croydon = s_boroughs.loc[s_boroughs['district']=='CROYDON']\n",
        "df_westminster = s_boroughs.loc[s_boroughs['district']=='CITY OF WESTMINSTER']"
      ],
      "execution_count": 0,
      "outputs": []
    },
    {
      "metadata": {
        "colab_type": "code",
        "id": "IYeqUQXiFtUF",
        "outputId": "cf1caed8-ec79-433c-9c07-814851308dc8",
        "colab": {
          "base_uri": "https://localhost:8080/",
          "height": 278
        }
      },
      "cell_type": "code",
      "source": [
        "#Drop the features that will not be considered:\n",
        "df_lambeth.drop(columns=['Unnamed: 0','townCity','district','county','propertyType','oldNew','duration'],inplace=True)\n",
        "df_croydon.drop(columns=['Unnamed: 0','townCity','district','county','propertyType','oldNew','duration'],inplace=True)\n",
        "df_westminster.drop(columns=['Unnamed: 0','townCity','district','county','propertyType','oldNew','duration'],inplace=True)"
      ],
      "execution_count": 8,
      "outputs": [
        {
          "output_type": "stream",
          "text": [
            "/usr/local/lib/python3.6/dist-packages/ipykernel_launcher.py:1: SettingWithCopyWarning: \n",
            "A value is trying to be set on a copy of a slice from a DataFrame\n",
            "\n",
            "See the caveats in the documentation: http://pandas.pydata.org/pandas-docs/stable/indexing.html#indexing-view-versus-copy\n",
            "  \"\"\"Entry point for launching an IPython kernel.\n",
            "/usr/local/lib/python3.6/dist-packages/ipykernel_launcher.py:2: SettingWithCopyWarning: \n",
            "A value is trying to be set on a copy of a slice from a DataFrame\n",
            "\n",
            "See the caveats in the documentation: http://pandas.pydata.org/pandas-docs/stable/indexing.html#indexing-view-versus-copy\n",
            "  \n",
            "/usr/local/lib/python3.6/dist-packages/ipykernel_launcher.py:3: SettingWithCopyWarning: \n",
            "A value is trying to be set on a copy of a slice from a DataFrame\n",
            "\n",
            "See the caveats in the documentation: http://pandas.pydata.org/pandas-docs/stable/indexing.html#indexing-view-versus-copy\n",
            "  This is separate from the ipykernel package so we can avoid doing imports until\n"
          ],
          "name": "stderr"
        }
      ]
    },
    {
      "metadata": {
        "colab_type": "code",
        "id": "o5O_v22P6l2z",
        "outputId": "147381f9-759f-4a3e-d6b4-a5089b1605d8",
        "colab": {
          "base_uri": "https://localhost:8080/",
          "height": 678
        }
      },
      "cell_type": "code",
      "source": [
        "#Reset the index for the Dataframe\n",
        "df_westminster.reset_index(inplace=True)\n",
        "df_westminster.drop(df_westminster.columns[[0]], axis=1, inplace=True)\n",
        "df_westminster.head(10)"
      ],
      "execution_count": 9,
      "outputs": [
        {
          "output_type": "stream",
          "text": [
            "/usr/local/lib/python3.6/dist-packages/ipykernel_launcher.py:2: SettingWithCopyWarning: \n",
            "A value is trying to be set on a copy of a slice from a DataFrame\n",
            "\n",
            "See the caveats in the documentation: http://pandas.pydata.org/pandas-docs/stable/indexing.html#indexing-view-versus-copy\n",
            "  \n"
          ],
          "name": "stderr"
        },
        {
          "output_type": "execute_result",
          "data": {
            "text/html": [
              "<div>\n",
              "<style scoped>\n",
              "    .dataframe tbody tr th:only-of-type {\n",
              "        vertical-align: middle;\n",
              "    }\n",
              "\n",
              "    .dataframe tbody tr th {\n",
              "        vertical-align: top;\n",
              "    }\n",
              "\n",
              "    .dataframe thead th {\n",
              "        text-align: right;\n",
              "    }\n",
              "</style>\n",
              "<table border=\"1\" class=\"dataframe\">\n",
              "  <thead>\n",
              "    <tr style=\"text-align: right;\">\n",
              "      <th></th>\n",
              "      <th>uniqueId</th>\n",
              "      <th>price</th>\n",
              "      <th>dateOfTransfer</th>\n",
              "      <th>postCode</th>\n",
              "      <th>PAON</th>\n",
              "      <th>SAON</th>\n",
              "      <th>street</th>\n",
              "      <th>locality</th>\n",
              "      <th>ppdCategoryType</th>\n",
              "      <th>recordStatus</th>\n",
              "      <th>prop_type_D</th>\n",
              "      <th>prop_type_F</th>\n",
              "      <th>prop_type_S</th>\n",
              "      <th>prop_type_T</th>\n",
              "      <th>oldNew_N</th>\n",
              "      <th>oldNew_Y</th>\n",
              "      <th>duration_F</th>\n",
              "      <th>duration_L</th>\n",
              "      <th>duration_U</th>\n",
              "    </tr>\n",
              "  </thead>\n",
              "  <tbody>\n",
              "    <tr>\n",
              "      <th>0</th>\n",
              "      <td>{8D28EE68-8F4F-4C7D-8A33-8E6335277383}</td>\n",
              "      <td>180000.0</td>\n",
              "      <td>728613</td>\n",
              "      <td>NW8 9AA</td>\n",
              "      <td>7B</td>\n",
              "      <td>NaN</td>\n",
              "      <td>ABBEY ROAD</td>\n",
              "      <td>LONDON</td>\n",
              "      <td>A</td>\n",
              "      <td>A</td>\n",
              "      <td>0</td>\n",
              "      <td>1</td>\n",
              "      <td>0</td>\n",
              "      <td>0</td>\n",
              "      <td>1</td>\n",
              "      <td>0</td>\n",
              "      <td>0</td>\n",
              "      <td>1</td>\n",
              "      <td>0</td>\n",
              "    </tr>\n",
              "    <tr>\n",
              "      <th>1</th>\n",
              "      <td>{958F75D1-1D97-4221-BFB4-CE0EC069B2DF}</td>\n",
              "      <td>950000.0</td>\n",
              "      <td>728295</td>\n",
              "      <td>NW8 0PS</td>\n",
              "      <td>57</td>\n",
              "      <td>NaN</td>\n",
              "      <td>MARLBOROUGH PLACE</td>\n",
              "      <td>LONDON</td>\n",
              "      <td>A</td>\n",
              "      <td>A</td>\n",
              "      <td>0</td>\n",
              "      <td>0</td>\n",
              "      <td>1</td>\n",
              "      <td>0</td>\n",
              "      <td>1</td>\n",
              "      <td>0</td>\n",
              "      <td>1</td>\n",
              "      <td>0</td>\n",
              "      <td>0</td>\n",
              "    </tr>\n",
              "    <tr>\n",
              "      <th>2</th>\n",
              "      <td>{A5349972-B8E0-47A9-A63C-BA2794F874D2}</td>\n",
              "      <td>115000.0</td>\n",
              "      <td>728568</td>\n",
              "      <td>SW1P 4AL</td>\n",
              "      <td>GLADSTONE COURT, 97</td>\n",
              "      <td>FLAT 31</td>\n",
              "      <td>REGENCY STREET</td>\n",
              "      <td>LONDON</td>\n",
              "      <td>A</td>\n",
              "      <td>A</td>\n",
              "      <td>0</td>\n",
              "      <td>1</td>\n",
              "      <td>0</td>\n",
              "      <td>0</td>\n",
              "      <td>1</td>\n",
              "      <td>0</td>\n",
              "      <td>0</td>\n",
              "      <td>1</td>\n",
              "      <td>0</td>\n",
              "    </tr>\n",
              "    <tr>\n",
              "      <th>3</th>\n",
              "      <td>{47C4CF14-2F62-425B-A16A-AF5C71801DA3}</td>\n",
              "      <td>250000.0</td>\n",
              "      <td>728359</td>\n",
              "      <td>W1K 6LP</td>\n",
              "      <td>SHEPHERDS HOUSE, 20</td>\n",
              "      <td>FLAT 6</td>\n",
              "      <td>LEES PLACE</td>\n",
              "      <td>LONDON</td>\n",
              "      <td>A</td>\n",
              "      <td>A</td>\n",
              "      <td>0</td>\n",
              "      <td>1</td>\n",
              "      <td>0</td>\n",
              "      <td>0</td>\n",
              "      <td>0</td>\n",
              "      <td>1</td>\n",
              "      <td>0</td>\n",
              "      <td>1</td>\n",
              "      <td>0</td>\n",
              "    </tr>\n",
              "    <tr>\n",
              "      <th>4</th>\n",
              "      <td>{41B2796E-F607-4D00-89F5-AF5E4A36BCF6}</td>\n",
              "      <td>185000.0</td>\n",
              "      <td>728363</td>\n",
              "      <td>W9 1EL</td>\n",
              "      <td>6</td>\n",
              "      <td>FLAT D</td>\n",
              "      <td>WARRINGTON CRESCENT</td>\n",
              "      <td>LONDON</td>\n",
              "      <td>A</td>\n",
              "      <td>A</td>\n",
              "      <td>0</td>\n",
              "      <td>1</td>\n",
              "      <td>0</td>\n",
              "      <td>0</td>\n",
              "      <td>1</td>\n",
              "      <td>0</td>\n",
              "      <td>0</td>\n",
              "      <td>1</td>\n",
              "      <td>0</td>\n",
              "    </tr>\n",
              "    <tr>\n",
              "      <th>5</th>\n",
              "      <td>{CCEAE9B9-75CC-42BA-B3A3-D72C2D33A664}</td>\n",
              "      <td>200000.0</td>\n",
              "      <td>728520</td>\n",
              "      <td>W1U 5LA</td>\n",
              "      <td>TREBOROUGH HOUSE</td>\n",
              "      <td>FLAT 9</td>\n",
              "      <td>NOTTINGHAM PLACE</td>\n",
              "      <td>LONDON</td>\n",
              "      <td>A</td>\n",
              "      <td>A</td>\n",
              "      <td>0</td>\n",
              "      <td>1</td>\n",
              "      <td>0</td>\n",
              "      <td>0</td>\n",
              "      <td>1</td>\n",
              "      <td>0</td>\n",
              "      <td>0</td>\n",
              "      <td>1</td>\n",
              "      <td>0</td>\n",
              "    </tr>\n",
              "    <tr>\n",
              "      <th>6</th>\n",
              "      <td>{01C520B3-0DEF-4534-B6E0-CCA88EDCD26D}</td>\n",
              "      <td>140000.0</td>\n",
              "      <td>728432</td>\n",
              "      <td>W1J 5AX</td>\n",
              "      <td>48</td>\n",
              "      <td>FLAT H</td>\n",
              "      <td>BERKELEY SQUARE</td>\n",
              "      <td>LONDON</td>\n",
              "      <td>A</td>\n",
              "      <td>A</td>\n",
              "      <td>0</td>\n",
              "      <td>1</td>\n",
              "      <td>0</td>\n",
              "      <td>0</td>\n",
              "      <td>1</td>\n",
              "      <td>0</td>\n",
              "      <td>0</td>\n",
              "      <td>1</td>\n",
              "      <td>0</td>\n",
              "    </tr>\n",
              "    <tr>\n",
              "      <th>7</th>\n",
              "      <td>{A11069A1-82FA-4B2A-9094-873B1AA487D2}</td>\n",
              "      <td>693000.0</td>\n",
              "      <td>728473</td>\n",
              "      <td>NW1 5HN</td>\n",
              "      <td>HARLEY HOUSE</td>\n",
              "      <td>FLAT 72</td>\n",
              "      <td>MARYLEBONE ROAD</td>\n",
              "      <td>LONDON</td>\n",
              "      <td>A</td>\n",
              "      <td>A</td>\n",
              "      <td>0</td>\n",
              "      <td>1</td>\n",
              "      <td>0</td>\n",
              "      <td>0</td>\n",
              "      <td>0</td>\n",
              "      <td>1</td>\n",
              "      <td>0</td>\n",
              "      <td>1</td>\n",
              "      <td>0</td>\n",
              "    </tr>\n",
              "    <tr>\n",
              "      <th>8</th>\n",
              "      <td>{A6508C3A-BC42-431A-8C5D-D03426CD5EB9}</td>\n",
              "      <td>66000.0</td>\n",
              "      <td>728481</td>\n",
              "      <td>W2 2SD</td>\n",
              "      <td>2</td>\n",
              "      <td>SECOND FLOOR FLAT</td>\n",
              "      <td>BATHURST STREET</td>\n",
              "      <td>LONDON</td>\n",
              "      <td>A</td>\n",
              "      <td>A</td>\n",
              "      <td>0</td>\n",
              "      <td>1</td>\n",
              "      <td>0</td>\n",
              "      <td>0</td>\n",
              "      <td>1</td>\n",
              "      <td>0</td>\n",
              "      <td>0</td>\n",
              "      <td>1</td>\n",
              "      <td>0</td>\n",
              "    </tr>\n",
              "    <tr>\n",
              "      <th>9</th>\n",
              "      <td>{0A961BE3-0969-42F8-B058-CCACD9F794F5}</td>\n",
              "      <td>560000.0</td>\n",
              "      <td>728360</td>\n",
              "      <td>SW1W 0RB</td>\n",
              "      <td>25</td>\n",
              "      <td>NaN</td>\n",
              "      <td>VICTORIA SQUARE</td>\n",
              "      <td>LONDON</td>\n",
              "      <td>A</td>\n",
              "      <td>A</td>\n",
              "      <td>0</td>\n",
              "      <td>0</td>\n",
              "      <td>0</td>\n",
              "      <td>1</td>\n",
              "      <td>1</td>\n",
              "      <td>0</td>\n",
              "      <td>1</td>\n",
              "      <td>0</td>\n",
              "      <td>0</td>\n",
              "    </tr>\n",
              "  </tbody>\n",
              "</table>\n",
              "</div>"
            ],
            "text/plain": [
              "                                 uniqueId     price  dateOfTransfer  postCode  \\\n",
              "0  {8D28EE68-8F4F-4C7D-8A33-8E6335277383}  180000.0          728613   NW8 9AA   \n",
              "1  {958F75D1-1D97-4221-BFB4-CE0EC069B2DF}  950000.0          728295   NW8 0PS   \n",
              "2  {A5349972-B8E0-47A9-A63C-BA2794F874D2}  115000.0          728568  SW1P 4AL   \n",
              "3  {47C4CF14-2F62-425B-A16A-AF5C71801DA3}  250000.0          728359   W1K 6LP   \n",
              "4  {41B2796E-F607-4D00-89F5-AF5E4A36BCF6}  185000.0          728363    W9 1EL   \n",
              "5  {CCEAE9B9-75CC-42BA-B3A3-D72C2D33A664}  200000.0          728520   W1U 5LA   \n",
              "6  {01C520B3-0DEF-4534-B6E0-CCA88EDCD26D}  140000.0          728432   W1J 5AX   \n",
              "7  {A11069A1-82FA-4B2A-9094-873B1AA487D2}  693000.0          728473   NW1 5HN   \n",
              "8  {A6508C3A-BC42-431A-8C5D-D03426CD5EB9}   66000.0          728481    W2 2SD   \n",
              "9  {0A961BE3-0969-42F8-B058-CCACD9F794F5}  560000.0          728360  SW1W 0RB   \n",
              "\n",
              "                  PAON               SAON               street locality  \\\n",
              "0                   7B                NaN           ABBEY ROAD   LONDON   \n",
              "1                   57                NaN    MARLBOROUGH PLACE   LONDON   \n",
              "2  GLADSTONE COURT, 97            FLAT 31       REGENCY STREET   LONDON   \n",
              "3  SHEPHERDS HOUSE, 20             FLAT 6           LEES PLACE   LONDON   \n",
              "4                    6             FLAT D  WARRINGTON CRESCENT   LONDON   \n",
              "5     TREBOROUGH HOUSE             FLAT 9     NOTTINGHAM PLACE   LONDON   \n",
              "6                   48             FLAT H      BERKELEY SQUARE   LONDON   \n",
              "7         HARLEY HOUSE            FLAT 72      MARYLEBONE ROAD   LONDON   \n",
              "8                    2  SECOND FLOOR FLAT      BATHURST STREET   LONDON   \n",
              "9                   25                NaN      VICTORIA SQUARE   LONDON   \n",
              "\n",
              "  ppdCategoryType recordStatus  prop_type_D  prop_type_F  prop_type_S  \\\n",
              "0               A            A            0            1            0   \n",
              "1               A            A            0            0            1   \n",
              "2               A            A            0            1            0   \n",
              "3               A            A            0            1            0   \n",
              "4               A            A            0            1            0   \n",
              "5               A            A            0            1            0   \n",
              "6               A            A            0            1            0   \n",
              "7               A            A            0            1            0   \n",
              "8               A            A            0            1            0   \n",
              "9               A            A            0            0            0   \n",
              "\n",
              "   prop_type_T  oldNew_N  oldNew_Y  duration_F  duration_L  duration_U  \n",
              "0            0         1         0           0           1           0  \n",
              "1            0         1         0           1           0           0  \n",
              "2            0         1         0           0           1           0  \n",
              "3            0         0         1           0           1           0  \n",
              "4            0         1         0           0           1           0  \n",
              "5            0         1         0           0           1           0  \n",
              "6            0         1         0           0           1           0  \n",
              "7            0         0         1           0           1           0  \n",
              "8            0         1         0           0           1           0  \n",
              "9            1         1         0           1           0           0  "
            ]
          },
          "metadata": {
            "tags": []
          },
          "execution_count": 9
        }
      ]
    },
    {
      "metadata": {
        "id": "hxwDYWfs89vf",
        "colab_type": "code",
        "colab": {}
      },
      "cell_type": "code",
      "source": [
        "df_lambeth = df_lambeth.groupby('dateOfTransfer').mean().reset_index()\n",
        "df_croydon = df_croydon.groupby('dateOfTransfer').mean().reset_index()\n",
        "df_westminster = df_westminster.groupby('dateOfTransfer').mean().reset_index()\n"
      ],
      "execution_count": 0,
      "outputs": []
    },
    {
      "metadata": {
        "id": "Fmw3kKavUmAu",
        "colab_type": "text"
      },
      "cell_type": "markdown",
      "source": [
        "##4 Train test split dataset"
      ]
    },
    {
      "metadata": {
        "colab_type": "code",
        "id": "lmbdWmST7S4n",
        "colab": {}
      },
      "cell_type": "code",
      "source": [
        "#Split the training set and test set\n",
        "\n",
        "Xw = df_westminster[['dateOfTransfer', 'prop_type_D', 'prop_type_F',\n",
        "       'prop_type_S', 'prop_type_T', 'oldNew_N', 'oldNew_Y', 'duration_F',\n",
        "       'duration_L', 'duration_U']]\n",
        "yw = df_westminster.price\n",
        "\n",
        "Xw_train, Xw_test, yw_train, yw_test = train_test_split(Xw, yw, test_size=0.2,random_state = 1)\n",
        "\n",
        "Xc = df_croydon[['dateOfTransfer', 'prop_type_D', 'prop_type_F',\n",
        "       'prop_type_S', 'prop_type_T', 'oldNew_N', 'oldNew_Y', 'duration_F',\n",
        "       'duration_L', 'duration_U']]\n",
        "yc = df_croydon.price\n",
        "\n",
        "Xc_train, Xc_test, yc_train, yc_test = train_test_split(Xc, yc, test_size=0.2,random_state = 1)\n",
        "\n",
        "Xl = df_lambeth[['dateOfTransfer', 'prop_type_D', 'prop_type_F',\n",
        "       'prop_type_S', 'prop_type_T', 'oldNew_N', 'oldNew_Y', 'duration_F',\n",
        "       'duration_L', 'duration_U']]\n",
        "yl = df_lambeth.price\n",
        "\n",
        "Xl_train, Xl_test, yl_train, yl_test = train_test_split(Xl, yl, test_size=0.2,random_state = 1)\n",
        "\n",
        "#display(X_train.shape)\n",
        "#display(X_test.shape)\n",
        "#display(y_train.shape)\n",
        "#display(y_test.shape)"
      ],
      "execution_count": 0,
      "outputs": []
    },
    {
      "metadata": {
        "id": "RXwbyE4KNFFe",
        "colab_type": "text"
      },
      "cell_type": "markdown",
      "source": [
        "##5 MLR model"
      ]
    },
    {
      "metadata": {
        "colab_type": "code",
        "id": "ZRM3mdLt7dT2",
        "outputId": "285f6eb8-10d5-47ce-be3a-a913ad376e29",
        "colab": {
          "base_uri": "https://localhost:8080/",
          "height": 380
        }
      },
      "cell_type": "code",
      "source": [
        "#Building the model for Westminster\n",
        "\n",
        "model1 = LinearRegression(normalize=True)\n",
        "display(model1)\n",
        "model1.fit(Xw_train, yw_train)\n",
        "\n",
        "# Plot the data and the model prediction\n",
        "yw_predict = model1.predict(Xw_test)\n",
        "\n",
        "#X_test.columns\n",
        "yw_predict = pd.DataFrame(yw_predict)\n",
        "yw_predict.head(10)\n",
        "\n",
        "#Building the model for Lambeth\n",
        "model2 = LinearRegression(normalize=True)\n",
        "model2.fit(Xl_train, yl_train)\n",
        "\n",
        "# Plot the data and the model prediction\n",
        "yl_predict = model2.predict(Xl_test)\n",
        "\n",
        "#X_test.columns\n",
        "yl_predict = pd.DataFrame(yl_predict)\n",
        "yl_predict.head(10)\n",
        "\n",
        "#Building the model for Croydon\n",
        "\n",
        "model3 = LinearRegression(normalize=True)\n",
        "model3.fit(Xc_train, yc_train)\n",
        "\n",
        "# Plot the data and the model prediction\n",
        "yc_predict = model3.predict(Xc_test)\n",
        "\n",
        "#X_test.columns\n",
        "yc_predict = pd.DataFrame(yc_predict)\n",
        "yc_predict.head(10)\n",
        "\n"
      ],
      "execution_count": 12,
      "outputs": [
        {
          "output_type": "display_data",
          "data": {
            "text/plain": [
              "LinearRegression(copy_X=True, fit_intercept=True, n_jobs=None, normalize=True)"
            ]
          },
          "metadata": {
            "tags": []
          }
        },
        {
          "output_type": "execute_result",
          "data": {
            "text/html": [
              "<div>\n",
              "<style scoped>\n",
              "    .dataframe tbody tr th:only-of-type {\n",
              "        vertical-align: middle;\n",
              "    }\n",
              "\n",
              "    .dataframe tbody tr th {\n",
              "        vertical-align: top;\n",
              "    }\n",
              "\n",
              "    .dataframe thead th {\n",
              "        text-align: right;\n",
              "    }\n",
              "</style>\n",
              "<table border=\"1\" class=\"dataframe\">\n",
              "  <thead>\n",
              "    <tr style=\"text-align: right;\">\n",
              "      <th></th>\n",
              "      <th>0</th>\n",
              "    </tr>\n",
              "  </thead>\n",
              "  <tbody>\n",
              "    <tr>\n",
              "      <th>0</th>\n",
              "      <td>157696.0</td>\n",
              "    </tr>\n",
              "    <tr>\n",
              "      <th>1</th>\n",
              "      <td>92160.0</td>\n",
              "    </tr>\n",
              "    <tr>\n",
              "      <th>2</th>\n",
              "      <td>226816.0</td>\n",
              "    </tr>\n",
              "    <tr>\n",
              "      <th>3</th>\n",
              "      <td>205824.0</td>\n",
              "    </tr>\n",
              "    <tr>\n",
              "      <th>4</th>\n",
              "      <td>152576.0</td>\n",
              "    </tr>\n",
              "    <tr>\n",
              "      <th>5</th>\n",
              "      <td>112640.0</td>\n",
              "    </tr>\n",
              "    <tr>\n",
              "      <th>6</th>\n",
              "      <td>203776.0</td>\n",
              "    </tr>\n",
              "    <tr>\n",
              "      <th>7</th>\n",
              "      <td>120832.0</td>\n",
              "    </tr>\n",
              "    <tr>\n",
              "      <th>8</th>\n",
              "      <td>144896.0</td>\n",
              "    </tr>\n",
              "    <tr>\n",
              "      <th>9</th>\n",
              "      <td>117248.0</td>\n",
              "    </tr>\n",
              "  </tbody>\n",
              "</table>\n",
              "</div>"
            ],
            "text/plain": [
              "          0\n",
              "0  157696.0\n",
              "1   92160.0\n",
              "2  226816.0\n",
              "3  205824.0\n",
              "4  152576.0\n",
              "5  112640.0\n",
              "6  203776.0\n",
              "7  120832.0\n",
              "8  144896.0\n",
              "9  117248.0"
            ]
          },
          "metadata": {
            "tags": []
          },
          "execution_count": 12
        }
      ]
    },
    {
      "metadata": {
        "id": "Y0O7V4FLM3ea",
        "colab_type": "text"
      },
      "cell_type": "markdown",
      "source": [
        "##6 RMSE calculation"
      ]
    },
    {
      "metadata": {
        "colab_type": "code",
        "id": "td8C7bO-D2S4",
        "outputId": "c976c31f-3a63-48c1-e060-00c0beacb943",
        "colab": {
          "base_uri": "https://localhost:8080/",
          "height": 69
        }
      },
      "cell_type": "code",
      "source": [
        "#MSE for each linear regression\n",
        "#Westminster\n",
        "MSEw = math.sqrt(mean_squared_error(yw_test,yw_predict))\n",
        "print('RMSE Westminster:',MSEw)\n",
        "#Croydon\n",
        "MSEc = math.sqrt(mean_squared_error(yc_test,yc_predict))\n",
        "print('RMSE Croydon:',MSEc)\n",
        "#Lambeth\n",
        "MSEl = math.sqrt(mean_squared_error(yl_test,yl_predict))\n",
        "print('RMSE Lambeth:',MSEl)"
      ],
      "execution_count": 13,
      "outputs": [
        {
          "output_type": "stream",
          "text": [
            "RMSE Westminster: 310878.6801567848\n",
            "RMSE Croydon: 35230.31378006007\n",
            "RMSE Lambeth: 64715.53229958661\n"
          ],
          "name": "stdout"
        }
      ]
    },
    {
      "metadata": {
        "colab_type": "code",
        "id": "pVVn6b28Mikn",
        "outputId": "68557b22-418f-4fc9-9d11-69672a940bd8",
        "colab": {
          "base_uri": "https://localhost:8080/",
          "height": 112
        }
      },
      "cell_type": "code",
      "source": [
        "#Compare actual price vs result of the regression\n",
        "comparison = pd.concat([yw_test,yw_predict],1)\n",
        "comparison.head(2)"
      ],
      "execution_count": 14,
      "outputs": [
        {
          "output_type": "execute_result",
          "data": {
            "text/html": [
              "<div>\n",
              "<style scoped>\n",
              "    .dataframe tbody tr th:only-of-type {\n",
              "        vertical-align: middle;\n",
              "    }\n",
              "\n",
              "    .dataframe tbody tr th {\n",
              "        vertical-align: top;\n",
              "    }\n",
              "\n",
              "    .dataframe thead th {\n",
              "        text-align: right;\n",
              "    }\n",
              "</style>\n",
              "<table border=\"1\" class=\"dataframe\">\n",
              "  <thead>\n",
              "    <tr style=\"text-align: right;\">\n",
              "      <th></th>\n",
              "      <th>price</th>\n",
              "      <th>0</th>\n",
              "    </tr>\n",
              "  </thead>\n",
              "  <tbody>\n",
              "    <tr>\n",
              "      <th>0</th>\n",
              "      <td>NaN</td>\n",
              "      <td>589824.0</td>\n",
              "    </tr>\n",
              "    <tr>\n",
              "      <th>1</th>\n",
              "      <td>NaN</td>\n",
              "      <td>729088.0</td>\n",
              "    </tr>\n",
              "  </tbody>\n",
              "</table>\n",
              "</div>"
            ],
            "text/plain": [
              "   price         0\n",
              "0    NaN  589824.0\n",
              "1    NaN  729088.0"
            ]
          },
          "metadata": {
            "tags": []
          },
          "execution_count": 14
        }
      ]
    },
    {
      "metadata": {
        "id": "apFZPzpsVKZm",
        "colab_type": "text"
      },
      "cell_type": "markdown",
      "source": [
        "##7 Polinomial Regression model"
      ]
    },
    {
      "metadata": {
        "id": "Yzks55bRKeBR",
        "colab_type": "code",
        "outputId": "050c90ba-03e6-4533-fffb-6daca0068727",
        "colab": {
          "base_uri": "https://localhost:8080/",
          "height": 206
        }
      },
      "cell_type": "code",
      "source": [
        "#POLYNOMIAL REGRESSION: Building the model: Westminster\n",
        "\n",
        "\n",
        "#Transform X_train and X_test into polynomials order 2\n",
        "polyW = PolynomialFeatures(degree=2, interaction_only=True)\n",
        "Xw_train_Poly = polyW.fit_transform(Xw_train)\n",
        "Xw_test_Poly = polyW.fit_transform(Xw_test)\n",
        "\n",
        "\n",
        "#Build the model\n",
        "polyW_model = LinearRegression()\n",
        "polyW_model.fit(Xw_train_Poly, yw_train)\n",
        "\n",
        "#Predict Y Values\n",
        "yw_PolyPredict = polyW_model.predict(Xw_test_Poly)\n",
        "\n",
        "\n",
        "#X_test.columns\n",
        "yw_PolyPredict = pd.DataFrame(yw_PolyPredict)\n",
        "yw_PolyPredict.head(5)\n",
        "\n",
        "\n"
      ],
      "execution_count": 15,
      "outputs": [
        {
          "output_type": "execute_result",
          "data": {
            "text/html": [
              "<div>\n",
              "<style scoped>\n",
              "    .dataframe tbody tr th:only-of-type {\n",
              "        vertical-align: middle;\n",
              "    }\n",
              "\n",
              "    .dataframe tbody tr th {\n",
              "        vertical-align: top;\n",
              "    }\n",
              "\n",
              "    .dataframe thead th {\n",
              "        text-align: right;\n",
              "    }\n",
              "</style>\n",
              "<table border=\"1\" class=\"dataframe\">\n",
              "  <thead>\n",
              "    <tr style=\"text-align: right;\">\n",
              "      <th></th>\n",
              "      <th>0</th>\n",
              "    </tr>\n",
              "  </thead>\n",
              "  <tbody>\n",
              "    <tr>\n",
              "      <th>0</th>\n",
              "      <td>587879.836601</td>\n",
              "    </tr>\n",
              "    <tr>\n",
              "      <th>1</th>\n",
              "      <td>738464.586601</td>\n",
              "    </tr>\n",
              "    <tr>\n",
              "      <th>2</th>\n",
              "      <td>322088.836601</td>\n",
              "    </tr>\n",
              "    <tr>\n",
              "      <th>3</th>\n",
              "      <td>473016.836601</td>\n",
              "    </tr>\n",
              "    <tr>\n",
              "      <th>4</th>\n",
              "      <td>374295.836601</td>\n",
              "    </tr>\n",
              "  </tbody>\n",
              "</table>\n",
              "</div>"
            ],
            "text/plain": [
              "               0\n",
              "0  587879.836601\n",
              "1  738464.586601\n",
              "2  322088.836601\n",
              "3  473016.836601\n",
              "4  374295.836601"
            ]
          },
          "metadata": {
            "tags": []
          },
          "execution_count": 15
        }
      ]
    },
    {
      "metadata": {
        "id": "lUiIDiTUWXBX",
        "colab_type": "code",
        "outputId": "86be579d-faa3-4af2-df7f-53fd8a4d095c",
        "colab": {
          "base_uri": "https://localhost:8080/",
          "height": 206
        }
      },
      "cell_type": "code",
      "source": [
        "#POLYNOMIAL REGRESSION: Building the model: Lambeth\n",
        "\n",
        "\n",
        "#Transform X_train and X_test into polynomials order 2\n",
        "polyL = PolynomialFeatures(degree=2, interaction_only=True)\n",
        "Xl_train_Poly = polyL.fit_transform(Xl_train)\n",
        "Xl_test_Poly = polyL.fit_transform(Xl_test)\n",
        "\n",
        "\n",
        "#Build the model\n",
        "polyL_model = LinearRegression()\n",
        "polyL_model.fit(Xl_train_Poly, yl_train)\n",
        "\n",
        "#Predict Y Values\n",
        "yl_PolyPredict = polyL_model.predict(Xl_test_Poly)\n",
        "\n",
        "\n",
        "#X_test.columns\n",
        "yl_PolyPredict = pd.DataFrame(yl_PolyPredict)\n",
        "yl_PolyPredict.head(5)"
      ],
      "execution_count": 16,
      "outputs": [
        {
          "output_type": "execute_result",
          "data": {
            "text/html": [
              "<div>\n",
              "<style scoped>\n",
              "    .dataframe tbody tr th:only-of-type {\n",
              "        vertical-align: middle;\n",
              "    }\n",
              "\n",
              "    .dataframe tbody tr th {\n",
              "        vertical-align: top;\n",
              "    }\n",
              "\n",
              "    .dataframe thead th {\n",
              "        text-align: right;\n",
              "    }\n",
              "</style>\n",
              "<table border=\"1\" class=\"dataframe\">\n",
              "  <thead>\n",
              "    <tr style=\"text-align: right;\">\n",
              "      <th></th>\n",
              "      <th>0</th>\n",
              "    </tr>\n",
              "  </thead>\n",
              "  <tbody>\n",
              "    <tr>\n",
              "      <th>0</th>\n",
              "      <td>191596.514971</td>\n",
              "    </tr>\n",
              "    <tr>\n",
              "      <th>1</th>\n",
              "      <td>74425.139971</td>\n",
              "    </tr>\n",
              "    <tr>\n",
              "      <th>2</th>\n",
              "      <td>368424.639971</td>\n",
              "    </tr>\n",
              "    <tr>\n",
              "      <th>3</th>\n",
              "      <td>312456.889971</td>\n",
              "    </tr>\n",
              "    <tr>\n",
              "      <th>4</th>\n",
              "      <td>284464.264971</td>\n",
              "    </tr>\n",
              "  </tbody>\n",
              "</table>\n",
              "</div>"
            ],
            "text/plain": [
              "               0\n",
              "0  191596.514971\n",
              "1   74425.139971\n",
              "2  368424.639971\n",
              "3  312456.889971\n",
              "4  284464.264971"
            ]
          },
          "metadata": {
            "tags": []
          },
          "execution_count": 16
        }
      ]
    },
    {
      "metadata": {
        "id": "I-rTCWwHXt46",
        "colab_type": "code",
        "outputId": "a5b19441-918e-4844-927d-ba90d468dd85",
        "colab": {
          "base_uri": "https://localhost:8080/",
          "height": 206
        }
      },
      "cell_type": "code",
      "source": [
        "#POLYNOMIAL REGRESSION: Building the model: Croydon\n",
        "\n",
        "\n",
        "#Transform X_train and X_test into polynomials order 2\n",
        "polyC = PolynomialFeatures(degree=2, interaction_only=True)\n",
        "Xc_train_Poly = polyC.fit_transform(Xc_train)\n",
        "Xc_test_Poly = polyC.fit_transform(Xc_test)\n",
        "\n",
        "\n",
        "#Build the model\n",
        "polyC_model = LinearRegression()\n",
        "polyC_model.fit(Xc_train_Poly, yc_train)\n",
        "\n",
        "#Predict Y Values\n",
        "yc_PolyPredict = polyC_model.predict(Xc_test_Poly)\n",
        "\n",
        "\n",
        "#X_test.columns\n",
        "yc_PolyPredict = pd.DataFrame(yc_PolyPredict)\n",
        "yc_PolyPredict.head(5)"
      ],
      "execution_count": 17,
      "outputs": [
        {
          "output_type": "execute_result",
          "data": {
            "text/html": [
              "<div>\n",
              "<style scoped>\n",
              "    .dataframe tbody tr th:only-of-type {\n",
              "        vertical-align: middle;\n",
              "    }\n",
              "\n",
              "    .dataframe tbody tr th {\n",
              "        vertical-align: top;\n",
              "    }\n",
              "\n",
              "    .dataframe thead th {\n",
              "        text-align: right;\n",
              "    }\n",
              "</style>\n",
              "<table border=\"1\" class=\"dataframe\">\n",
              "  <thead>\n",
              "    <tr style=\"text-align: right;\">\n",
              "      <th></th>\n",
              "      <th>0</th>\n",
              "    </tr>\n",
              "  </thead>\n",
              "  <tbody>\n",
              "    <tr>\n",
              "      <th>0</th>\n",
              "      <td>157284.814983</td>\n",
              "    </tr>\n",
              "    <tr>\n",
              "      <th>1</th>\n",
              "      <td>90872.814983</td>\n",
              "    </tr>\n",
              "    <tr>\n",
              "      <th>2</th>\n",
              "      <td>214922.814983</td>\n",
              "    </tr>\n",
              "    <tr>\n",
              "      <th>3</th>\n",
              "      <td>203170.314983</td>\n",
              "    </tr>\n",
              "    <tr>\n",
              "      <th>4</th>\n",
              "      <td>152017.814983</td>\n",
              "    </tr>\n",
              "  </tbody>\n",
              "</table>\n",
              "</div>"
            ],
            "text/plain": [
              "               0\n",
              "0  157284.814983\n",
              "1   90872.814983\n",
              "2  214922.814983\n",
              "3  203170.314983\n",
              "4  152017.814983"
            ]
          },
          "metadata": {
            "tags": []
          },
          "execution_count": 17
        }
      ]
    },
    {
      "metadata": {
        "id": "ooGlh1vOVFN-",
        "colab_type": "code",
        "outputId": "1dd90b74-46af-4811-ef14-20d39a7b167e",
        "colab": {
          "base_uri": "https://localhost:8080/",
          "height": 69
        }
      },
      "cell_type": "code",
      "source": [
        "#MSE for each polynomial regression\n",
        "#Westminster\n",
        "MSEw_poly = math.sqrt(mean_squared_error(yw_test,yw_PolyPredict))\n",
        "print('RMSE poly Westminster:',MSEw_poly)\n",
        "\n",
        "#MSE for each linear regression\n",
        "#Croydon\n",
        "MSEc_poly = math.sqrt(mean_squared_error(yc_test,yc_PolyPredict))\n",
        "print('RMSE poly Croydon:',MSEc_poly)\n",
        "\n",
        "#MSE for each linear regression\n",
        "#Lambeth\n",
        "MSEl_poly = math.sqrt(mean_squared_error(yl_test,yl_PolyPredict))\n",
        "print('RMSE poly Lambeth:',MSEl_poly)\n",
        "\n"
      ],
      "execution_count": 18,
      "outputs": [
        {
          "output_type": "stream",
          "text": [
            "RMSE poly Westminster: 309778.7183271143\n",
            "RMSE poly Croydon: 35185.63407411494\n",
            "RMSE poly Lambeth: 63548.399740508015\n"
          ],
          "name": "stdout"
        }
      ]
    },
    {
      "metadata": {
        "id": "E5CFBvMvVWpW",
        "colab_type": "text"
      },
      "cell_type": "markdown",
      "source": [
        "##8 RMSE difference"
      ]
    },
    {
      "metadata": {
        "id": "S0LI1mX6YUoo",
        "colab_type": "code",
        "colab": {
          "base_uri": "https://localhost:8080/",
          "height": 69
        },
        "outputId": "11ca9aa9-f8b9-40dc-f3ef-736b8ca1ed52"
      },
      "cell_type": "code",
      "source": [
        "#Print the differences in MSE of Polynomial vs Linear Regression\n",
        "\n",
        "print('RMSE Westminster:',MSEw_poly-MSEw)\n",
        "print('RMSE Croydon:',MSEc_poly-MSEc)\n",
        "print('RMSE Lambeth:',MSEl_poly-MSEl)\n"
      ],
      "execution_count": 19,
      "outputs": [
        {
          "output_type": "stream",
          "text": [
            "RMSE Westminster: -1099.961829670472\n",
            "RMSE Croydon: -44.67970594512735\n",
            "RMSE Lambeth: -1167.1325590785927\n"
          ],
          "name": "stdout"
        }
      ]
    }
  ]
}